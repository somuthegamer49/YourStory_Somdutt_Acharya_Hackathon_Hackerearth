{
 "metadata": {
  "kernelspec": {
   "display_name": "Streamlit Notebook",
   "name": "streamlit"
  },
  "lastEditStatus": {
   "notebookId": "zjlpx2u4c6wkllkjpk6e",
   "authorId": "229088424421",
   "authorName": "SOMWAR",
   "authorEmail": "somduttwork@gmail.com",
   "sessionId": "ffac25be-3213-4760-8538-978ebc80fdc0",
   "lastEditTime": 1746864702753
  }
 },
 "nbformat_minor": 5,
 "nbformat": 4,
 "cells": [
  {
   "cell_type": "code",
   "id": "3775908f-ca36-4846-8f38-5adca39217f2",
   "metadata": {
    "language": "python",
    "name": "cell1"
   },
   "source": "# Import python packages\nimport streamlit as st\nimport pandas as pd\nimport matplotlib.pyplot as plt\nimport matplotlib.cm as cm\nimport seaborn as sns\nimport plotly.express as px\nimport numpy as np\nimport requests\nimport folium\nimport folium.plugins\nfrom streamlit.column_config import CheckboxColumn\n\n# We can also use Snowpark for our analyses!\nfrom snowflake.snowpark.context import get_active_session\nsession = get_active_session()\n",
   "execution_count": null,
   "outputs": []
  },
  {
   "cell_type": "markdown",
   "id": "f785f7cb-54fa-46b1-88d3-e37856c7dbfa",
   "metadata": {
    "name": "cell11",
    "collapsed": false
   },
   "source": "## Converting downloaded files from data.gov to useful dataframes as below"
  },
  {
   "cell_type": "code",
   "id": "cab155f5-675b-4a7d-a57f-d43bad56d708",
   "metadata": {
    "language": "python",
    "name": "cell2"
   },
   "outputs": [],
   "source": "df1=pd.read_csv('Assistance_To_Art_and_Culture.csv')\ndf2=pd.read_csv('Domestic_Tourist_Visits_Density.csv')\ndf3=pd.read_csv('Foriegn_Tourist_Visits_Density.csv')\ndf4=pd.read_csv('gdp_vs_tourism_gdp.csv')\ndf5=pd.read_csv('Jobs_vs_share_in_gdp.csv')\ndf6=pd.read_csv('kashmir_gdp_revenue.csv')\ndf7=pd.read_csv('Sanctioned_projects_tourism_statewise.csv')\ndf8=pd.read_csv('Statewise_assistance_art_and_culture.csv')",
   "execution_count": null
  },
  {
   "cell_type": "code",
   "id": "918f741b-b84e-4f77-a563-13158292ef31",
   "metadata": {
    "language": "python",
    "name": "cell3"
   },
   "outputs": [],
   "source": "df1.head()\n",
   "execution_count": null
  },
  {
   "cell_type": "code",
   "id": "a9e63bfd-5747-41af-ba19-efbf4c18817e",
   "metadata": {
    "language": "python",
    "name": "cell4"
   },
   "outputs": [],
   "source": "df2['Tourist_Type']='D'\ndf2.head()",
   "execution_count": null
  },
  {
   "cell_type": "code",
   "id": "306edfd8-9978-4d7a-a0c1-2b3769ccd5e7",
   "metadata": {
    "language": "python",
    "name": "cell5",
    "codeCollapsed": false
   },
   "outputs": [],
   "source": "df3['Tourist_Type']='F'\ndf3.head()",
   "execution_count": null
  },
  {
   "cell_type": "code",
   "id": "a79d9030-6f43-4731-998f-57d49352e28c",
   "metadata": {
    "language": "python",
    "name": "cell6"
   },
   "outputs": [],
   "source": "df4.head()",
   "execution_count": null
  },
  {
   "cell_type": "code",
   "id": "89b88534-f8bf-4230-995f-d25244873682",
   "metadata": {
    "language": "python",
    "name": "cell7"
   },
   "outputs": [],
   "source": "df5.head()",
   "execution_count": null
  },
  {
   "cell_type": "code",
   "id": "fb7c880a-3881-4008-a32c-8265ea6a27f8",
   "metadata": {
    "language": "python",
    "name": "cell8"
   },
   "outputs": [],
   "source": "df6.head()",
   "execution_count": null
  },
  {
   "cell_type": "code",
   "id": "9c1b8f19-c128-4ff9-b8e2-f56816e26f33",
   "metadata": {
    "language": "python",
    "name": "cell9"
   },
   "outputs": [],
   "source": "df7.head()",
   "execution_count": null
  },
  {
   "cell_type": "code",
   "id": "d812b072-0be1-48ce-a2ee-eb70c3a605ea",
   "metadata": {
    "language": "python",
    "name": "cell10"
   },
   "outputs": [],
   "source": "df8.head()",
   "execution_count": null
  },
  {
   "cell_type": "markdown",
   "id": "8fc1125a-0d88-4eb0-a8f8-fa311d0dfaa6",
   "metadata": {
    "name": "cell12",
    "collapsed": false
   },
   "source": "## Above 8 tables are converted to dataframes from csv files\n"
  },
  {
   "cell_type": "code",
   "id": "d628b24d-e0d6-4353-ad50-b9cc6e02779e",
   "metadata": {
    "language": "python",
    "name": "cell13"
   },
   "outputs": [],
   "source": "df_tourist_type = pd.merge(df2, df3, how='outer')\ndf_tourist_type",
   "execution_count": null
  },
  {
   "cell_type": "code",
   "id": "392062e4-caed-4b4e-9519-d1053627d1f7",
   "metadata": {
    "language": "python",
    "name": "cell14"
   },
   "outputs": [],
   "source": "def charts_bar_dom_for():\n    plt.figure(figsize=(15, 20))  \n    sns.barplot(x='State/ UT Name', y='2013',hue='Tourist_Type', data=df_tourist_type)\n    sns.barplot(x='State/ UT Name', y='2014',hue='Tourist_Type', data=df_tourist_type)\n    sns.barplot(x='State/ UT Name', y='2015',hue='Tourist_Type', data=df_tourist_type)\n    plt.xticks(rotation=90)\n    plt.ylim(0, 30000000)\n    plt.show()\n\ndef charts_pie_gdp():\n    gdp_df4_counts=df4['2015-16 (Revised)']\n    gdp_df4_counts=df4['2016-17 (Estimated)']\n    fig, axes = plt.subplots(nrows=1,ncols=2,figsize=(15, 10),squeeze = False) \n    axes[0, 0].pie(gdp_df4_counts,labels=df4['Parameter'],autopct='%.2f')\n    axes[0, 1].pie(gdp_df4_counts,labels=df4['Parameter'],autopct='%.2f')\n    axes[0,0].set_title('GDP Growth vs GDP contributed by Tourism 2015-2016 Revised')\n    axes[0,1].set_title('GDP Growth vs GDP contributed by Tourism 2016-2017 Estimated')\n    plt.show()\n\ndef charts_bar_shareingdp_vs_jobs():\n    sns.barplot(df5)\n    plt.ylim(0, 100)\n    plt.show()\n\ndef Density_Statewise_Sanctioned():\n    df7.iloc[:-1].plot(x='Name of the State', y=['Amt. Sanctioned', 'Amt. Utilised'], kind='bar')\n    plt.xticks(rotation=90)\n    plt.show()\n\ndef Amount_sacntioned_camparison():\n    df8.iloc[:-1].plot(x='State/UT',y=['2018-2019 - Amount','2019-2020 - Amount','2020-2021 - Amount'], kind='bar')\n    plt.xticks(rotation=90)\n    plt.show()",
   "execution_count": null
  },
  {
   "cell_type": "markdown",
   "id": "bf85fa89-5224-4c75-9583-4afc9ecd2126",
   "metadata": {
    "name": "cell15",
    "collapsed": false
   },
   "source": "\n\n\n\n"
  },
  {
   "cell_type": "code",
   "id": "d59cfbcc-d49b-4cce-a638-64718d656999",
   "metadata": {
    "language": "python",
    "name": "cell17",
    "codeCollapsed": false
   },
   "outputs": [],
   "source": "data=['Relation between Foreign Tourist and Domestic Tourist from 2013-2015','GDP affected by Tourism','Share in GDP in % vs Jobs created by Tourism in million','Amount Sanctioned vs Amount Utilised to the States for Tourism','Comparison of Amounts Sanctioned to Art & Culture Over the Years','Key Insights & Reporting']\ndropdown_charts = st.selectbox(label='charts',options=data)\nif dropdown_charts=='Relation between Foreign Tourist and Domestic Tourist from 2013-2015':\n    charts_bar_dom_for()\n    st.markdown('## Above Barchart shows distribution of States and Union Terrritories and their respective Tourist density in the years 2013, 2014 and 2015 combined')\n    st.markdown('## F- Foriegn Tourist (Bluish)')\n    st.markdown('## D- Domestic Tourist (Yellowish)')\n    st.markdown('## Key Insights- Only 23 states have foreign visits, Total foreign visits are less comapared to Domestic, Highest Foreign tourist visits are in 1st-Tamil Nadu, 2nd-Maharashtra, 3rd-Uttar Pradesh')\n    st.markdown('## 11 states have Domestic Tourist Visits more than 3 crores. It can be identified by the yellowish bar touching the top')\n\nif dropdown_charts=='GDP affected by Tourism':\n    charts_pie_gdp()\n\nif dropdown_charts=='Share in GDP in % vs Jobs created by Tourism in million':\n    charts_bar_shareingdp_vs_jobs()\n    st.markdown('## It can be seen that Share in GDP increased over the years and so the jobs')\n    st.markdown('## Black line - Jobs in Millions')\n    st.markdown('## Bars - GDP Percentage')\n\nif dropdown_charts=='Amount Sanctioned vs Amount Utilised to the States for Tourism':\n    Density_Statewise_Sanctioned()\n    st.markdown('## Maximum amount has been given to 1st-Madhya Pradesh, 2nd-Jammu & Kashmir and 3rd-Kerala and Maharashtra')\n    st.markdown('## West Bengal did not utilise any amount from the sanctioned amount')\n\nif dropdown_charts=='Comparison of Amounts Sanctioned to Art & Culture Over the Years':\n    Amount_sacntioned_camparison()\n    st.markdown('## The highest amount sanctioned for Art and Culture is West Bengal followed by Delhi, Karnataka and Manipur')\n\nif dropdown_charts=='Key Insights & Reporting':\n    st.markdown('# Final Report')\n    st.markdown('## 1. Rajasthan and West Bengal have same amount of foreign visits. Also, the Domestic visits in these states are more than 3 crores')\n    st.markdown('## 2. West Bengal has the highest sanctions for Art and Culture but not so much for Tourism. Still it has highest tourism')\n    st.markdown('## 3. West Bengal hardly utilises any sacntioned amount for tourism. But it can be assumed that as the Art and Culture sacntions are high in WB, the state is having high tourism')\n    st.markdown('## 4. It is advised to sanction more amount of revenue for Art and Culture to Rajasthan state because it has good potential for Art and Culture. Thus if Art and Culture in Rajasthan is promoted, it will give more revenue in terms of Tourism')\n    st.markdown('## 5. Delhi, Maharashtra, Uttar-Pradesh and Tamil Nadu has highest tourism and also the foreign visits to these states are very high as compared to other states. Delhi, Karnataka, Uttar-Pradesh and Manipur have highest sanctions for Art and Culture as compared to other states. It can be seen that Manipur are not contributing to tourism as much as other Art and Culture states')\n    st.markdown('## 6. Orissa is a good candidate in terms of Tourism and Art and Culture. If more sanctions are made to Orissa for Art and Culture and Tourism, it can lead to more Tourism')\n    st.markdown('## 7. GDP contribution of Tourism in country is 5% of the total GDP. Which is a good number!!')\n    st.markdown('## 8. North-Eastern States (Seven Sisters) are contributing least to Tourism. It is a very good zone for both Art and Culture as well as Tourism. Although government sanctioned high amount to Manupiur it is not giving good results in terms of Tourism')",
   "execution_count": null
  }
 ]
}